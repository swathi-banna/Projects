{
 "cells": [
  {
   "cell_type": "markdown",
   "id": "df230718",
   "metadata": {},
   "source": [
    "# A2. Feature Extraction from Booking.com Reviews\n",
    "## Swathi Banna"
   ]
  },
  {
   "cell_type": "code",
   "execution_count": 1,
   "id": "14b67f9a",
   "metadata": {},
   "outputs": [],
   "source": [
    "import re\n",
    "import pandas as pd\n",
    "import nltk\n",
    "import numpy as np\n",
    "import matplotlib.pyplot as plt\n",
    "import spacy\n",
    "import pickle\n",
    "from collections import Counter\n"
   ]
  },
  {
   "cell_type": "code",
   "execution_count": 2,
   "id": "8b27488e",
   "metadata": {},
   "outputs": [
    {
     "data": {
      "text/html": [
       "<div>\n",
       "<style scoped>\n",
       "    .dataframe tbody tr th:only-of-type {\n",
       "        vertical-align: middle;\n",
       "    }\n",
       "\n",
       "    .dataframe tbody tr th {\n",
       "        vertical-align: top;\n",
       "    }\n",
       "\n",
       "    .dataframe thead th {\n",
       "        text-align: right;\n",
       "    }\n",
       "</style>\n",
       "<table border=\"1\" class=\"dataframe\">\n",
       "  <thead>\n",
       "    <tr style=\"text-align: right;\">\n",
       "      <th></th>\n",
       "      <th>Hotel_Name</th>\n",
       "      <th>Hotel_Address</th>\n",
       "      <th>Review_Count</th>\n",
       "      <th>Non_Review_Scoring_Count</th>\n",
       "      <th>Average_Hotel_Score</th>\n",
       "      <th>Review_Date</th>\n",
       "      <th>Reviewer_Nationality</th>\n",
       "      <th>Positive_Comments</th>\n",
       "      <th>Negative_Comments</th>\n",
       "      <th>Total_Reviewer_Reviews</th>\n",
       "      <th>Reviewer_Score</th>\n",
       "      <th>Tags</th>\n",
       "    </tr>\n",
       "  </thead>\n",
       "  <tbody>\n",
       "    <tr>\n",
       "      <th>0</th>\n",
       "      <td>Hotel Arena</td>\n",
       "      <td>s Gravesandestraat 55 Oost 1092 AA Amsterdam ...</td>\n",
       "      <td>1403</td>\n",
       "      <td>194</td>\n",
       "      <td>7.7</td>\n",
       "      <td>2017-08-03</td>\n",
       "      <td>Russia</td>\n",
       "      <td>Only the park outside of the hotel was beauti...</td>\n",
       "      <td>I am so angry that i made this post available...</td>\n",
       "      <td>7</td>\n",
       "      <td>2.9</td>\n",
       "      <td>[' Leisure trip ', ' Couple ', ' Duplex Double...</td>\n",
       "    </tr>\n",
       "    <tr>\n",
       "      <th>1</th>\n",
       "      <td>Hotel Arena</td>\n",
       "      <td>s Gravesandestraat 55 Oost 1092 AA Amsterdam ...</td>\n",
       "      <td>1403</td>\n",
       "      <td>194</td>\n",
       "      <td>7.7</td>\n",
       "      <td>2017-08-03</td>\n",
       "      <td>Ireland</td>\n",
       "      <td>No real complaints the hotel was great great ...</td>\n",
       "      <td>No Negative</td>\n",
       "      <td>7</td>\n",
       "      <td>7.5</td>\n",
       "      <td>[' Leisure trip ', ' Couple ', ' Duplex Double...</td>\n",
       "    </tr>\n",
       "    <tr>\n",
       "      <th>2</th>\n",
       "      <td>Hotel Arena</td>\n",
       "      <td>s Gravesandestraat 55 Oost 1092 AA Amsterdam ...</td>\n",
       "      <td>1403</td>\n",
       "      <td>194</td>\n",
       "      <td>7.7</td>\n",
       "      <td>2017-07-31</td>\n",
       "      <td>Australia</td>\n",
       "      <td>Location was good and staff were ok It is cut...</td>\n",
       "      <td>Rooms are nice but for elderly a bit difficul...</td>\n",
       "      <td>9</td>\n",
       "      <td>7.1</td>\n",
       "      <td>[' Leisure trip ', ' Family with young childre...</td>\n",
       "    </tr>\n",
       "    <tr>\n",
       "      <th>3</th>\n",
       "      <td>Hotel Arena</td>\n",
       "      <td>s Gravesandestraat 55 Oost 1092 AA Amsterdam ...</td>\n",
       "      <td>1403</td>\n",
       "      <td>194</td>\n",
       "      <td>7.7</td>\n",
       "      <td>2017-07-31</td>\n",
       "      <td>United Kingdom</td>\n",
       "      <td>Great location in nice surroundings the bar a...</td>\n",
       "      <td>My room was dirty and I was afraid to walk ba...</td>\n",
       "      <td>1</td>\n",
       "      <td>3.8</td>\n",
       "      <td>[' Leisure trip ', ' Solo traveler ', ' Duplex...</td>\n",
       "    </tr>\n",
       "    <tr>\n",
       "      <th>4</th>\n",
       "      <td>Hotel Arena</td>\n",
       "      <td>s Gravesandestraat 55 Oost 1092 AA Amsterdam ...</td>\n",
       "      <td>1403</td>\n",
       "      <td>194</td>\n",
       "      <td>7.7</td>\n",
       "      <td>2017-07-24</td>\n",
       "      <td>New Zealand</td>\n",
       "      <td>Amazing location and building Romantic setting</td>\n",
       "      <td>You When I booked with your company on line y...</td>\n",
       "      <td>3</td>\n",
       "      <td>6.7</td>\n",
       "      <td>[' Leisure trip ', ' Couple ', ' Suite ', ' St...</td>\n",
       "    </tr>\n",
       "  </tbody>\n",
       "</table>\n",
       "</div>"
      ],
      "text/plain": [
       "    Hotel_Name                                      Hotel_Address  \\\n",
       "0  Hotel Arena   s Gravesandestraat 55 Oost 1092 AA Amsterdam ...   \n",
       "1  Hotel Arena   s Gravesandestraat 55 Oost 1092 AA Amsterdam ...   \n",
       "2  Hotel Arena   s Gravesandestraat 55 Oost 1092 AA Amsterdam ...   \n",
       "3  Hotel Arena   s Gravesandestraat 55 Oost 1092 AA Amsterdam ...   \n",
       "4  Hotel Arena   s Gravesandestraat 55 Oost 1092 AA Amsterdam ...   \n",
       "\n",
       "   Review_Count  Non_Review_Scoring_Count  Average_Hotel_Score Review_Date  \\\n",
       "0          1403                       194                  7.7  2017-08-03   \n",
       "1          1403                       194                  7.7  2017-08-03   \n",
       "2          1403                       194                  7.7  2017-07-31   \n",
       "3          1403                       194                  7.7  2017-07-31   \n",
       "4          1403                       194                  7.7  2017-07-24   \n",
       "\n",
       "  Reviewer_Nationality                                  Positive_Comments  \\\n",
       "0              Russia    Only the park outside of the hotel was beauti...   \n",
       "1             Ireland    No real complaints the hotel was great great ...   \n",
       "2           Australia    Location was good and staff were ok It is cut...   \n",
       "3      United Kingdom    Great location in nice surroundings the bar a...   \n",
       "4         New Zealand     Amazing location and building Romantic setting    \n",
       "\n",
       "                                   Negative_Comments  Total_Reviewer_Reviews  \\\n",
       "0   I am so angry that i made this post available...                       7   \n",
       "1                                        No Negative                       7   \n",
       "2   Rooms are nice but for elderly a bit difficul...                       9   \n",
       "3   My room was dirty and I was afraid to walk ba...                       1   \n",
       "4   You When I booked with your company on line y...                       3   \n",
       "\n",
       "   Reviewer_Score                                               Tags  \n",
       "0             2.9  [' Leisure trip ', ' Couple ', ' Duplex Double...  \n",
       "1             7.5  [' Leisure trip ', ' Couple ', ' Duplex Double...  \n",
       "2             7.1  [' Leisure trip ', ' Family with young childre...  \n",
       "3             3.8  [' Leisure trip ', ' Solo traveler ', ' Duplex...  \n",
       "4             6.7  [' Leisure trip ', ' Couple ', ' Suite ', ' St...  "
      ]
     },
     "execution_count": 2,
     "metadata": {},
     "output_type": "execute_result"
    }
   ],
   "source": [
    "booking = pd.read_excel(r'C:\\Users\\Swathi\\Documents\\BAIS\\Text Analytics\\Assignments\\A2 Booking.com reviews\\BookingDotCom_HotelReviews.xlsx')\n",
    "booking.head()"
   ]
  },
  {
   "cell_type": "code",
   "execution_count": 3,
   "id": "680d7f5b",
   "metadata": {},
   "outputs": [
    {
     "data": {
      "text/plain": [
       "Hotel_Name                  0\n",
       "Hotel_Address               0\n",
       "Review_Count                0\n",
       "Non_Review_Scoring_Count    0\n",
       "Average_Hotel_Score         0\n",
       "Review_Date                 0\n",
       "Reviewer_Nationality        0\n",
       "Positive_Comments           0\n",
       "Negative_Comments           0\n",
       "Total_Reviewer_Reviews      0\n",
       "Reviewer_Score              0\n",
       "Tags                        0\n",
       "dtype: int64"
      ]
     },
     "execution_count": 3,
     "metadata": {},
     "output_type": "execute_result"
    }
   ],
   "source": [
    "booking.isnull().sum()"
   ]
  },
  {
   "cell_type": "code",
   "execution_count": 492,
   "id": "bac5bcc2",
   "metadata": {},
   "outputs": [],
   "source": [
    "# Taking a sample of 15000 reviews\n",
    "\n",
    "booking = booking.sample(n=15000).reset_index(drop=True)"
   ]
  },
  {
   "cell_type": "code",
   "execution_count": 493,
   "id": "c782ddab",
   "metadata": {},
   "outputs": [],
   "source": [
    "# Saving the sample file as pickle file\n",
    "\n",
    "with open('booking_sample_pkl', 'wb') as pkl_file:\n",
    "    pickle.dump(booking, pkl_file) "
   ]
  },
  {
   "cell_type": "code",
   "execution_count": 38,
   "id": "11ced475",
   "metadata": {},
   "outputs": [],
   "source": [
    "with open('booking_sample_pkl', 'rb') as pkl_file:\n",
    "    booking = pickle.load(pkl_file)"
   ]
  },
  {
   "cell_type": "code",
   "execution_count": 39,
   "id": "ebec475e",
   "metadata": {
    "scrolled": true
   },
   "outputs": [
    {
     "data": {
      "text/plain": [
       "(15000, 12)"
      ]
     },
     "execution_count": 39,
     "metadata": {},
     "output_type": "execute_result"
    }
   ],
   "source": [
    "booking.shape"
   ]
  },
  {
   "cell_type": "code",
   "execution_count": 40,
   "id": "ccbd09f1",
   "metadata": {},
   "outputs": [
    {
     "data": {
      "text/html": [
       "<div>\n",
       "<style scoped>\n",
       "    .dataframe tbody tr th:only-of-type {\n",
       "        vertical-align: middle;\n",
       "    }\n",
       "\n",
       "    .dataframe tbody tr th {\n",
       "        vertical-align: top;\n",
       "    }\n",
       "\n",
       "    .dataframe thead th {\n",
       "        text-align: right;\n",
       "    }\n",
       "</style>\n",
       "<table border=\"1\" class=\"dataframe\">\n",
       "  <thead>\n",
       "    <tr style=\"text-align: right;\">\n",
       "      <th></th>\n",
       "      <th>Hotel_Name</th>\n",
       "      <th>Hotel_Address</th>\n",
       "      <th>Review_Count</th>\n",
       "      <th>Non_Review_Scoring_Count</th>\n",
       "      <th>Average_Hotel_Score</th>\n",
       "      <th>Review_Date</th>\n",
       "      <th>Reviewer_Nationality</th>\n",
       "      <th>Positive_Comments</th>\n",
       "      <th>Negative_Comments</th>\n",
       "      <th>Total_Reviewer_Reviews</th>\n",
       "      <th>Reviewer_Score</th>\n",
       "      <th>Tags</th>\n",
       "    </tr>\n",
       "  </thead>\n",
       "  <tbody>\n",
       "    <tr>\n",
       "      <th>0</th>\n",
       "      <td>London Marriott Hotel West India Quay</td>\n",
       "      <td>22 Hertsmere Road Tower Hamlets London E14 4ED...</td>\n",
       "      <td>2836</td>\n",
       "      <td>930</td>\n",
       "      <td>8.9</td>\n",
       "      <td>2017-08-02</td>\n",
       "      <td>United Kingdom</td>\n",
       "      <td>Upgraded room to walk in shower room lovely</td>\n",
       "      <td>More tea coffee</td>\n",
       "      <td>4</td>\n",
       "      <td>10.0</td>\n",
       "      <td>[' Leisure trip ', ' Couple ', ' Deluxe King o...</td>\n",
       "    </tr>\n",
       "    <tr>\n",
       "      <th>1</th>\n",
       "      <td>Blakemore Hyde Park</td>\n",
       "      <td>30 Leinster Gardens Bayswater Westminster Boro...</td>\n",
       "      <td>6596</td>\n",
       "      <td>1198</td>\n",
       "      <td>8.5</td>\n",
       "      <td>2016-04-07</td>\n",
       "      <td>United Kingdom</td>\n",
       "      <td>The location was great and the room was clean...</td>\n",
       "      <td>The key for the room didn t work and i was le...</td>\n",
       "      <td>1</td>\n",
       "      <td>5.4</td>\n",
       "      <td>[' Leisure trip ', ' Couple ', ' Club Double R...</td>\n",
       "    </tr>\n",
       "    <tr>\n",
       "      <th>2</th>\n",
       "      <td>The Montague On The Gardens</td>\n",
       "      <td>15 Montague St Bloomsbury Camden London WC1B 5...</td>\n",
       "      <td>931</td>\n",
       "      <td>196</td>\n",
       "      <td>9.3</td>\n",
       "      <td>2017-03-04</td>\n",
       "      <td>Canada</td>\n",
       "      <td>The staff are incredible always friendly and ...</td>\n",
       "      <td>If I had to complain the pillows didn t suit me</td>\n",
       "      <td>17</td>\n",
       "      <td>10.0</td>\n",
       "      <td>[' Leisure trip ', ' Solo traveler ', ' Classi...</td>\n",
       "    </tr>\n",
       "  </tbody>\n",
       "</table>\n",
       "</div>"
      ],
      "text/plain": [
       "                              Hotel_Name  \\\n",
       "0  London Marriott Hotel West India Quay   \n",
       "1                    Blakemore Hyde Park   \n",
       "2            The Montague On The Gardens   \n",
       "\n",
       "                                       Hotel_Address  Review_Count  \\\n",
       "0  22 Hertsmere Road Tower Hamlets London E14 4ED...          2836   \n",
       "1  30 Leinster Gardens Bayswater Westminster Boro...          6596   \n",
       "2  15 Montague St Bloomsbury Camden London WC1B 5...           931   \n",
       "\n",
       "   Non_Review_Scoring_Count  Average_Hotel_Score Review_Date  \\\n",
       "0                       930                  8.9  2017-08-02   \n",
       "1                      1198                  8.5  2016-04-07   \n",
       "2                       196                  9.3  2017-03-04   \n",
       "\n",
       "  Reviewer_Nationality                                  Positive_Comments  \\\n",
       "0      United Kingdom         Upgraded room to walk in shower room lovely   \n",
       "1      United Kingdom    The location was great and the room was clean...   \n",
       "2              Canada    The staff are incredible always friendly and ...   \n",
       "\n",
       "                                   Negative_Comments  Total_Reviewer_Reviews  \\\n",
       "0                                    More tea coffee                       4   \n",
       "1   The key for the room didn t work and i was le...                       1   \n",
       "2    If I had to complain the pillows didn t suit me                      17   \n",
       "\n",
       "   Reviewer_Score                                               Tags  \n",
       "0            10.0  [' Leisure trip ', ' Couple ', ' Deluxe King o...  \n",
       "1             5.4  [' Leisure trip ', ' Couple ', ' Club Double R...  \n",
       "2            10.0  [' Leisure trip ', ' Solo traveler ', ' Classi...  "
      ]
     },
     "execution_count": 40,
     "metadata": {},
     "output_type": "execute_result"
    }
   ],
   "source": [
    "booking.head(3)"
   ]
  },
  {
   "cell_type": "markdown",
   "id": "35ec49aa",
   "metadata": {},
   "source": [
    "### Preprocessing"
   ]
  },
  {
   "cell_type": "code",
   "execution_count": 5,
   "id": "c15a5b67",
   "metadata": {},
   "outputs": [],
   "source": [
    "sp = spacy.load(\"en_core_web_sm\")"
   ]
  },
  {
   "cell_type": "code",
   "execution_count": 108,
   "id": "98746f8f",
   "metadata": {},
   "outputs": [],
   "source": [
    "pd.set_option('display.width', None) \n",
    "pd.set_option('display.max_colwidth', None)"
   ]
  },
  {
   "cell_type": "code",
   "execution_count": 109,
   "id": "c5da624c",
   "metadata": {
    "scrolled": true
   },
   "outputs": [
    {
     "name": "stdout",
     "output_type": "stream",
     "text": [
      "0                                                                                                                                                                                                                                                                                                                                                                                                                                                                                                                                        Upgraded room to walk in shower room lovely\n",
      "1                                                                                                                                                                                                                                                                                                                                                                                                                                                                                                               The location was great and the room was clean specially the bathroom\n",
      "2                                                                                                                                                                                                                                                      The staff are incredible always friendly and helpful The room was maintained twice a day and I always had a little surprise on my pillow when I went to bed Actually forgot my scarf in the room and the concierge ran over on the tube and brought it to me One of the best hotels I have stayed at plus location is perfect\n",
      "3                                                                                                                                                                                                                                                                                                                                                                                                                                                                                                                                                            Everything was perfect \n",
      "4                                                                                                                                                                                                                                                                                                                                                                                                                                                                                                                                                                    Staff was great\n",
      "5                                                                                                                                                                                                                                                                                                                                                                                                                                                                                                                                                                           Location\n",
      "6                                                                                                                                                                                                                                                                                                                                                                                                                                                                                                                                          Clean room nice bathroom wit a shower box\n",
      "7                                                                                                                                                                                                                                                                                                                                                                                                                            The staffs at the Langham club were amazing The reception were also good too The Landau restaurant had great food Location of the hotel was also great \n",
      "8                                                                                                                                                                                                                                                                                                                                                                                                                                                                                                                                       Staff very friendly helpful and approachable\n",
      "9                                                                                                                                                                                                                                                                                                                                                                                                                                                                                                        The view from the room on the IJ was priceless And the room was very clean \n",
      "10                                                                                                                                                                                                                                                                                                                                                                                                                                                                              Everything Excellent location helpful and friendly staff nothing too much trouble lovely restaurant \n",
      "11                                                                                                                                                                                                                                                                                                                                                                                                       Great value room was small but well finished and staff were very friendly Location was excellent right next to the overground and underground stations in Zone 2 of London \n",
      "12                                                                                                                                                                                                                                                                                                                                                                                                                                                                                                                                                                       Every thing\n",
      "13                                                                                                                                                                                                                                                                                                                                                                                                                                         Wonderful location to see Barcelona very short distance to metro station Helpful and polite staff Breakfast had good quality and variety \n",
      "14                                                                                                                                                                                                                                                                                                                                                                                                                                                                                                                          Bed was very comfortable and got a very nice nights rest\n",
      "15                                                                                                                                                                                                                                                                                                                                                                                                                                                                                                                                         Location staff were friendly and helpful \n",
      "16                                                                                                                                                                                                                                                                                                                        Great location for Regent Street Bond Street Oxford Street We had access to the Club lounge which was an added bonus Very chilled venue for breakfast with great views of the Shard London Eye Gherkin etc Also great for post shopping drinks and nibbles\n",
      "17                                                                                                                                                                                                                                                                                                                                                                                                                I absolutely loved the room As soon as me and my partner came in we were really happy with how we looked Bed was comfy staff was friendly and good value for money\n",
      "18                                                                                                                                                                                                                                                                                                                                                                                                                                                                  Staff were excellent Blackout curtains and triple glazed windows brilliant Location good and breakfast fantastic\n",
      "19                                                                                                                                                                                                                                                                                                                                                                                                                                                                                                                             Very friendly staff breakfast great prices very good \n",
      "20                                                                                                                                                                                                                                                                                                                                                                                                                                                                                                                                                             Your beautiful garden\n",
      "21                                                                                                                                                                                                                                                                                                                                                                                                                                                                                                                       The breakfast was really good So many locally sourced food \n",
      "22                                                                                                                                                                                                                                                                                                                                                                                                                                                                                                                                 the location is good Good service Spacious rooms \n",
      "23                                                                                                                                                                                                                                                                                                                                                                                                                                                                                                                                                                          Location\n",
      "24                                                                                                                                                                                                                                                                                                                                                                                                                                                                                                                                                                       No Positive\n",
      "25                                                                                                                                                                                                                                                                                                                                                                                                                                                                                                                                 staff very friendly great breakfast lovely break \n",
      "26                                                                                                                                                                                                                                                                                                                                                  The staff is very friendly and welcoming Room is quite spacious and well decorated Located in a quiet place and very convenient to the museum district and other attractions Seems like 10 15 minutes walking to the dam square \n",
      "27                                                                                                                                                                                                                                                                                                                                                                                                                                                                                                                 The staff good and kind and the location of the hotel really good\n",
      "28                                                                                                                                                                                                                                                                                                                                                                                                                                                                                                                       Good location very helpful and informative reception staff \n",
      "29                                                                                                                                                                                                                                                                                                                                                                                                                                                                                  Location is great Staff were helpful and arranged specific rooms for us Well proportioned Rooms \n",
      "30                                                                                                                                                                                                                                                                                                                                                                                                                                                             Brilliant location in Kensington easy walking or tube to anywhere else Hyde Park close by Kensington Palace close by \n",
      "31                                                                                                                                                                                                                                                                                                                                                                                                                                                    A nice boutique style hotel close to the action Very clean and tidy and classically modern Goid breakfast but needs sausage s \n",
      "32                                                                                                                                                                                                                                                                                                                                                                                                                                                                                                                                                                 Everything was a1\n",
      "33                                                                                                                                                                                                                          A good hotel for a short period a very small room but very modern and clean room was airconditioned and worked well in walking distance from the Gare De Nord train station if you are arriving by train also the underground train station Gare D Lest is just across the road and the hop on hop off bus has a stop just 20 metres away from the hotel\n",
      "34                                                                                                                                                                                                                                                                                                                                                                                                                                                                                                      Hotel and view is amazing the hotel is spotless and the facilities are good \n",
      "35                                                                                                                                                                                                                                                                                                                                                                                                 Remarkably quiet room on the 5th floor with a view on Berkley street all mod cons included well stocked fridge tea service and lovely bathroom with all usual amenities included \n",
      "36                                                                                                                                                                                                                                                                                                               Location close to Paddington Train station which comes in handy for the airport express However given that a chauffeur service can be booked at GBP 45 taking this train can be questioned All staff were really friendly and forthcoming and everything was clean \n",
      "37                                                                                                                                                                                                                                                                                                                                                                                                                                                                                      The suite was lovely We received a free drink in the bar and free wifi as we booked a suite \n",
      "38                                                                                                                                                                                                                                                                                                                                                                                                                                                                                                                                                     the breakfast was outstanding\n",
      "39                                                                                                                                                                                                                                                                                                                                                                                                                                                                                                                        The bed is more comfortable and the location is very good \n",
      "40                                                                                                                                                                                                                                                                                                                                                                                                                                                                                                                Location was great lobby was really nice aswell comfiest bed ever \n",
      "41                                                                                                                                                                                                                                                                                                                                                                                                                                                                                                                                                                 Location of hotel\n",
      "42                                                                                                                                                                                                                                                                                                                                                                                                                                                                                                                                                                       No Positive\n",
      "43                                                                                                                                                                                                                                                                                                                                                                                                                                                                  They moved us to the hotel in front of it Montcalm Hotel It has a great location friendly staff comfortable room\n",
      "44                                                                                                                                                                                                                                                                                                                                                                                                                                       Room was clean bathroom was lovely also very clean which scores big points for me Location good Wifi rarely worked for us Overall good stay\n",
      "45                                                                                                                                                                                                                                                                                                                                                                                                                                    EXACTLEY what we were looking for Quiet private beautiful room staff was great and location was close to the Tube Would return in a heartbeat \n",
      "46                                                                                                                                                                                                                                                                                                                                                  The person on the counter Francis is the best we have ever seen in any hotel He went out of his way to help us We were looking for halal food and he helped us find a place that was very close Overall he was extremely helpful\n",
      "47                                                                                                                                                                                                                                                                                                                                                                                                                                                                                                                         Excellent view from the roof top bar Excellent breakfast \n",
      "48     Nice room nice bathroom tea coffee in the room I asked for a quiet room and got one Breakfast was more than enough for anyone and the hotel was directly opposite the exhibition centre I was visiting No restaurant but plenty of places close by to eat at and opposite the tram stop and metro plus they gave me a voucher for a free drink at the bar what more can I say a good experience Also used the transfer service recommended by Booking com so had a car arranged in advance to drive from CDG to hotel and return two days late Thanks for the recommendation \n",
      "49                                                                                                                                                                                                                                                                                                                                                                                                                                                                                                        Friendly staff great room and amenities location that goes without saying \n",
      "Name: Positive_Comments, dtype: object\n"
     ]
    }
   ],
   "source": [
    "print(booking['Positive_Comments'].head(50))"
   ]
  },
  {
   "cell_type": "code",
   "execution_count": 110,
   "id": "c2514879",
   "metadata": {},
   "outputs": [
    {
     "name": "stdout",
     "output_type": "stream",
     "text": [
      "0                                                                                                                                                                                                                                                                                                                                                                                                                                                                                                                                        Upgraded room to walk in shower room lovely\n",
      "1                                                                                                                                                                                                                                                                                                                                                                                                                                                                                                               The location was great and the room was clean specially the bathroom\n",
      "2                                                                                                                                                                                                                                                      The staff are incredible always friendly and helpful The room was maintained twice a day and I always had a little surprise on my pillow when I went to bed Actually forgot my scarf in the room and the concierge ran over on the tube and brought it to me One of the best hotels I have stayed at plus location is perfect\n",
      "3                                                                                                                                                                                                                                                                                                                                                                                                                                                                                                                                                            Everything was perfect \n",
      "4                                                                                                                                                                                                                                                                                                                                                                                                                                                                                                                                                                    Staff was great\n",
      "5                                                                                                                                                                                                                                                                                                                                                                                                                                                                                                                                                                           Location\n",
      "6                                                                                                                                                                                                                                                                                                                                                                                                                                                                                                                                          Clean room nice bathroom wit a shower box\n",
      "7                                                                                                                                                                                                                                                                                                                                                                                                                            The staffs at the Langham club were amazing The reception were also good too The Landau restaurant had great food Location of the hotel was also great \n",
      "8                                                                                                                                                                                                                                                                                                                                                                                                                                                                                                                                       Staff very friendly helpful and approachable\n",
      "9                                                                                                                                                                                                                                                                                                                                                                                                                                                                                                        The view from the room on the IJ was priceless And the room was very clean \n",
      "10                                                                                                                                                                                                                                                                                                                                                                                                                                                                              Everything Excellent location helpful and friendly staff nothing too much trouble lovely restaurant \n",
      "11                                                                                                                                                                                                                                                                                                                                                                                                       Great value room was small but well finished and staff were very friendly Location was excellent right next to the overground and underground stations in Zone 2 of London \n",
      "12                                                                                                                                                                                                                                                                                                                                                                                                                                                                                                                                                                       Every thing\n",
      "13                                                                                                                                                                                                                                                                                                                                                                                                                                         Wonderful location to see Barcelona very short distance to metro station Helpful and polite staff Breakfast had good quality and variety \n",
      "14                                                                                                                                                                                                                                                                                                                                                                                                                                                                                                                          Bed was very comfortable and got a very nice nights rest\n",
      "15                                                                                                                                                                                                                                                                                                                                                                                                                                                                                                                                         Location staff were friendly and helpful \n",
      "16                                                                                                                                                                                                                                                                                                                        Great location for Regent Street Bond Street Oxford Street We had access to the Club lounge which was an added bonus Very chilled venue for breakfast with great views of the Shard London Eye Gherkin etc Also great for post shopping drinks and nibbles\n",
      "17                                                                                                                                                                                                                                                                                                                                                                                                                I absolutely loved the room As soon as me and my partner came in we were really happy with how we looked Bed was comfy staff was friendly and good value for money\n",
      "18                                                                                                                                                                                                                                                                                                                                                                                                                                                                  Staff were excellent Blackout curtains and triple glazed windows brilliant Location good and breakfast fantastic\n",
      "19                                                                                                                                                                                                                                                                                                                                                                                                                                                                                                                             Very friendly staff breakfast great prices very good \n",
      "20                                                                                                                                                                                                                                                                                                                                                                                                                                                                                                                                                             Your beautiful garden\n",
      "21                                                                                                                                                                                                                                                                                                                                                                                                                                                                                                                       The breakfast was really good So many locally sourced food \n",
      "22                                                                                                                                                                                                                                                                                                                                                                                                                                                                                                                                 the location is good Good service Spacious rooms \n",
      "23                                                                                                                                                                                                                                                                                                                                                                                                                                                                                                                                                                          Location\n",
      "24                                                                                                                                                                                                                                                                                                                                                                                                                                                                                                                                                                       No Positive\n",
      "25                                                                                                                                                                                                                                                                                                                                                                                                                                                                                                                                 staff very friendly great breakfast lovely break \n",
      "26                                                                                                                                                                                                                                                                                                                                                  The staff is very friendly and welcoming Room is quite spacious and well decorated Located in a quiet place and very convenient to the museum district and other attractions Seems like 10 15 minutes walking to the dam square \n",
      "27                                                                                                                                                                                                                                                                                                                                                                                                                                                                                                                 The staff good and kind and the location of the hotel really good\n",
      "28                                                                                                                                                                                                                                                                                                                                                                                                                                                                                                                       Good location very helpful and informative reception staff \n",
      "29                                                                                                                                                                                                                                                                                                                                                                                                                                                                                  Location is great Staff were helpful and arranged specific rooms for us Well proportioned Rooms \n",
      "30                                                                                                                                                                                                                                                                                                                                                                                                                                                             Brilliant location in Kensington easy walking or tube to anywhere else Hyde Park close by Kensington Palace close by \n",
      "31                                                                                                                                                                                                                                                                                                                                                                                                                                                    A nice boutique style hotel close to the action Very clean and tidy and classically modern Goid breakfast but needs sausage s \n",
      "32                                                                                                                                                                                                                                                                                                                                                                                                                                                                                                                                                                 Everything was a1\n",
      "33                                                                                                                                                                                                                          A good hotel for a short period a very small room but very modern and clean room was airconditioned and worked well in walking distance from the Gare De Nord train station if you are arriving by train also the underground train station Gare D Lest is just across the road and the hop on hop off bus has a stop just 20 metres away from the hotel\n",
      "34                                                                                                                                                                                                                                                                                                                                                                                                                                                                                                      Hotel and view is amazing the hotel is spotless and the facilities are good \n",
      "35                                                                                                                                                                                                                                                                                                                                                                                                 Remarkably quiet room on the 5th floor with a view on Berkley street all mod cons included well stocked fridge tea service and lovely bathroom with all usual amenities included \n",
      "36                                                                                                                                                                                                                                                                                                               Location close to Paddington Train station which comes in handy for the airport express However given that a chauffeur service can be booked at GBP 45 taking this train can be questioned All staff were really friendly and forthcoming and everything was clean \n",
      "37                                                                                                                                                                                                                                                                                                                                                                                                                                                                                      The suite was lovely We received a free drink in the bar and free wifi as we booked a suite \n",
      "38                                                                                                                                                                                                                                                                                                                                                                                                                                                                                                                                                     the breakfast was outstanding\n",
      "39                                                                                                                                                                                                                                                                                                                                                                                                                                                                                                                        The bed is more comfortable and the location is very good \n",
      "40                                                                                                                                                                                                                                                                                                                                                                                                                                                                                                                Location was great lobby was really nice aswell comfiest bed ever \n",
      "41                                                                                                                                                                                                                                                                                                                                                                                                                                                                                                                                                                 Location of hotel\n",
      "42                                                                                                                                                                                                                                                                                                                                                                                                                                                                                                                                                                       No Positive\n",
      "43                                                                                                                                                                                                                                                                                                                                                                                                                                                                  They moved us to the hotel in front of it Montcalm Hotel It has a great location friendly staff comfortable room\n",
      "44                                                                                                                                                                                                                                                                                                                                                                                                                                       Room was clean bathroom was lovely also very clean which scores big points for me Location good Wifi rarely worked for us Overall good stay\n",
      "45                                                                                                                                                                                                                                                                                                                                                                                                                                    EXACTLEY what we were looking for Quiet private beautiful room staff was great and location was close to the Tube Would return in a heartbeat \n",
      "46                                                                                                                                                                                                                                                                                                                                                  The person on the counter Francis is the best we have ever seen in any hotel He went out of his way to help us We were looking for halal food and he helped us find a place that was very close Overall he was extremely helpful\n",
      "47                                                                                                                                                                                                                                                                                                                                                                                                                                                                                                                         Excellent view from the roof top bar Excellent breakfast \n",
      "48     Nice room nice bathroom tea coffee in the room I asked for a quiet room and got one Breakfast was more than enough for anyone and the hotel was directly opposite the exhibition centre I was visiting No restaurant but plenty of places close by to eat at and opposite the tram stop and metro plus they gave me a voucher for a free drink at the bar what more can I say a good experience Also used the transfer service recommended by Booking com so had a car arranged in advance to drive from CDG to hotel and return two days late Thanks for the recommendation \n",
      "49                                                                                                                                                                                                                                                                                                                                                                                                                                                                                                        Friendly staff great room and amenities location that goes without saying \n",
      "Name: Positive_Comments, dtype: object\n"
     ]
    }
   ],
   "source": [
    "print(booking['Positive_Comments'].head(50))"
   ]
  },
  {
   "cell_type": "code",
   "execution_count": 175,
   "id": "82c817be",
   "metadata": {},
   "outputs": [],
   "source": [
    "# Categorizing similar words for a meaningful analysis\n",
    "\n",
    "station = ['stations', 'tram' , 'train', 'trains', 'railway', 'rail', 'metro']\n",
    "room = ['room','rooms', 'bedroom']\n",
    "bath = ['bath', 'shower', 'toilet', 'bathroom']\n",
    "bed = ['bed', 'beds', 'pillow', 'pillows', 'mattress']\n",
    "food = ['restaurants', 'restaurant', 'breakfast', 'sausages', 'cheesecake', 'meat', \n",
    "        'pizza', 'cereals', 'milk', 'eggs', 'coffee', 'buffet', 'lunch', 'dinner']\n",
    "internet = ['wifi']\n",
    "cost = ['price']\n",
    "\n",
    "# Common words which don't give much information but appeared frequently in the postive/negative comments\n",
    "\n",
    "remove = ['hotel', 'hotels','bit', 'day', 'night'] \n",
    "                                                    \n"
   ]
  },
  {
   "cell_type": "code",
   "execution_count": 176,
   "id": "a153f6eb",
   "metadata": {},
   "outputs": [],
   "source": [
    "# Using Spacy\n",
    "\n",
    "sp_positive=[]\n",
    "sp_negative=[]\n",
    "\n",
    "for i in range(len(booking)):\n",
    "    positive = sp(booking.iloc[i,7])\n",
    "    negative = sp(booking.iloc[i,8])\n",
    "    \n",
    "    # Converting words to lower case, removing stop words & punctuations and selecting only NOUNS\n",
    "    \n",
    "    spPositiveWords = [w.text.lower() for w in positive if not w.is_stop and not w.is_punct and w.pos_ == 'NOUN']\n",
    "    spNegativeWords = [w.text.lower() for w in negative if not w.is_stop and not w.is_punct and w.pos_ == 'NOUN']\n",
    "    \n",
    "    # Removing leading/trailing spaces, empty spaces, 1 & 2 letter words and common words.\n",
    "    \n",
    "    spPositiveWords = [w.strip() for w in spPositiveWords if ((w not in remove) and (len(w) > 2))]\n",
    "    spNegativeWords = [w.strip() for w in spNegativeWords if ((w not in remove) and (len(w) > 2))]\n",
    "    \n",
    "    # Replacing similar words with a related word\n",
    "    \n",
    "    spPositiveWords = ['station' if w in station else \n",
    "                       'room' if w in room else \n",
    "                       'bath' if w in bath else \n",
    "                       'bed' if w in bed else\n",
    "                       'food' if w in food else\n",
    "                       'internet' if w in internet else\n",
    "                       'cost' if w in cost \n",
    "                        else w for w in spPositiveWords]\n",
    "    \n",
    "    spNegativeWords = ['station' if w in station else \n",
    "                       'room' if w in room else \n",
    "                       'bath' if w in bath else \n",
    "                       'bed' if w in bed else\n",
    "                       'food' if w in food else\n",
    "                       'internet' if w in internet else\n",
    "                       'cost' if w in cost \n",
    "                        else w for w in spNegativeWords]\n",
    "    \n",
    "    # saving the processed corpus into positive and negative lists\n",
    "    \n",
    "    sp_positive.append(spPositiveWords)\n",
    "    sp_negative.append(spNegativeWords)"
   ]
  },
  {
   "cell_type": "code",
   "execution_count": 198,
   "id": "6e657156",
   "metadata": {},
   "outputs": [],
   "source": [
    "# Saving the positive corpus and negative corpus of all the reviews in 2 master lists 'posTotal' and 'negTotal'\n",
    "# For answering question 1\n",
    "\n",
    "posTotal = [word for sublist in sp_positive for word in sublist]\n",
    "negTotal = [word for sublist in sp_negative for word in sublist]"
   ]
  },
  {
   "cell_type": "code",
   "execution_count": 199,
   "id": "445f4ded",
   "metadata": {
    "scrolled": true
   },
   "outputs": [],
   "source": [
    "# Appending positive and negative corpus to the dataframe\n",
    "\n",
    "booking['Sp_Positive_Corpus']=sp_positive\n",
    "booking['Sp_Negative_Corpus']=sp_negative"
   ]
  },
  {
   "cell_type": "code",
   "execution_count": 179,
   "id": "a61c6ae4",
   "metadata": {},
   "outputs": [],
   "source": [
    "# Saving booking, posTotal and negTotal in pickle files\n",
    "\n",
    "with open('booking_pkl', 'wb') as pkl_file:\n",
    "    pickle.dump(booking, pkl_file) "
   ]
  },
  {
   "cell_type": "code",
   "execution_count": 180,
   "id": "a62d0696",
   "metadata": {},
   "outputs": [],
   "source": [
    "with open('posTotal_pkl', 'wb') as pkl_file:\n",
    "    pickle.dump(posTotal, pkl_file)"
   ]
  },
  {
   "cell_type": "code",
   "execution_count": 181,
   "id": "fb4b08ca",
   "metadata": {},
   "outputs": [],
   "source": [
    "with open('negTotal_pkl', 'wb') as pkl_file:\n",
    "    pickle.dump(negTotal, pkl_file)"
   ]
  },
  {
   "cell_type": "code",
   "execution_count": 329,
   "id": "9ba94b97",
   "metadata": {},
   "outputs": [],
   "source": [
    "# Reading the pickle files and assigning the same file names\n",
    "\n",
    "with open('booking_pkl', 'rb') as pkl_file:\n",
    "    booking = pickle.load(pkl_file)    "
   ]
  },
  {
   "cell_type": "code",
   "execution_count": 320,
   "id": "bd72025f",
   "metadata": {},
   "outputs": [],
   "source": [
    "with open('posTotal_pkl', 'rb') as pkl_file:\n",
    "    posTotal = pickle.load(pkl_file)"
   ]
  },
  {
   "cell_type": "code",
   "execution_count": 321,
   "id": "d93f3c7d",
   "metadata": {},
   "outputs": [],
   "source": [
    "with open('negTotal_pkl', 'rb') as pkl_file:\n",
    "    negTotal = pickle.load(pkl_file)"
   ]
  },
  {
   "cell_type": "code",
   "execution_count": 322,
   "id": "08cf7d8d",
   "metadata": {},
   "outputs": [
    {
     "name": "stdout",
     "output_type": "stream",
     "text": [
      "[('room', 5007), ('staff', 4492), ('location', 4373), ('food', 3574), ('bed', 1789), ('station', 1499), ('bath', 912), ('service', 708), ('bar', 554), ('view', 482)]\n"
     ]
    }
   ],
   "source": [
    "print(Counter(posTotal).most_common(10))"
   ]
  },
  {
   "cell_type": "markdown",
   "id": "8154a0b9",
   "metadata": {},
   "source": [
    "#### Top five hotel features in positive reviews:\n",
    "##### Room - 5007, Staff - 4492, Location - 4373, Food - 3574, Bed - 1789\n",
    "\n",
    "Station is also another feature which has to be considered. It means customers might prefer a hotel if it has proximity to station."
   ]
  },
  {
   "cell_type": "code",
   "execution_count": 323,
   "id": "2d87e9f7",
   "metadata": {
    "scrolled": true
   },
   "outputs": [
    {
     "name": "stdout",
     "output_type": "stream",
     "text": [
      "[('room', 5838), ('food', 2599), ('bath', 1563), ('bed', 1223), ('staff', 970), ('cost', 573), ('service', 535), ('bar', 525), ('time', 523), ('floor', 479)]\n"
     ]
    }
   ],
   "source": [
    "print(Counter(negTotal).most_common(10))"
   ]
  },
  {
   "cell_type": "markdown",
   "id": "e029e0d6",
   "metadata": {},
   "source": [
    "#### Top five hotel features in negative reviews:\n",
    "##### Room - 5838, Food - 2599, Bath - 1563, Bed - 1223, Staff - 970\n",
    "\n",
    "Room is equally featured in both positive and negative reviews. Location is given a positive review in most of the cases whereas Bath has more negative reviews."
   ]
  },
  {
   "cell_type": "code",
   "execution_count": 330,
   "id": "88d78459",
   "metadata": {},
   "outputs": [
    {
     "data": {
      "text/plain": [
       "pandas.core.series.Series"
      ]
     },
     "execution_count": 330,
     "metadata": {},
     "output_type": "execute_result"
    }
   ],
   "source": [
    "type(booking['Tags'])"
   ]
  },
  {
   "cell_type": "code",
   "execution_count": 324,
   "id": "19b3db71",
   "metadata": {
    "scrolled": true
   },
   "outputs": [
    {
     "data": {
      "text/html": [
       "<div>\n",
       "<style scoped>\n",
       "    .dataframe tbody tr th:only-of-type {\n",
       "        vertical-align: middle;\n",
       "    }\n",
       "\n",
       "    .dataframe tbody tr th {\n",
       "        vertical-align: top;\n",
       "    }\n",
       "\n",
       "    .dataframe thead th {\n",
       "        text-align: right;\n",
       "    }\n",
       "</style>\n",
       "<table border=\"1\" class=\"dataframe\">\n",
       "  <thead>\n",
       "    <tr style=\"text-align: right;\">\n",
       "      <th></th>\n",
       "      <th>Hotel_Name</th>\n",
       "      <th>Hotel_Address</th>\n",
       "      <th>Review_Count</th>\n",
       "      <th>Non_Review_Scoring_Count</th>\n",
       "      <th>Average_Hotel_Score</th>\n",
       "      <th>Review_Date</th>\n",
       "      <th>Reviewer_Nationality</th>\n",
       "      <th>Positive_Comments</th>\n",
       "      <th>Negative_Comments</th>\n",
       "      <th>Total_Reviewer_Reviews</th>\n",
       "      <th>Reviewer_Score</th>\n",
       "      <th>Tags</th>\n",
       "      <th>Sp_Positive_Corpus</th>\n",
       "      <th>Sp_Negative_Corpus</th>\n",
       "    </tr>\n",
       "  </thead>\n",
       "  <tbody>\n",
       "    <tr>\n",
       "      <th>0</th>\n",
       "      <td>London Marriott Hotel West India Quay</td>\n",
       "      <td>22 Hertsmere Road Tower Hamlets London E14 4ED United Kingdom</td>\n",
       "      <td>2836</td>\n",
       "      <td>930</td>\n",
       "      <td>8.9</td>\n",
       "      <td>2017-08-02</td>\n",
       "      <td>United Kingdom</td>\n",
       "      <td>Upgraded room to walk in shower room lovely</td>\n",
       "      <td>More tea coffee</td>\n",
       "      <td>4</td>\n",
       "      <td>10.0</td>\n",
       "      <td>[ Leisure trip ,  Couple ,  Deluxe King or Twin Room ,  Stayed 1 night ,  Submitted from a mobile device ]</td>\n",
       "      <td>[room, bath, room]</td>\n",
       "      <td>[tea, food]</td>\n",
       "    </tr>\n",
       "    <tr>\n",
       "      <th>1</th>\n",
       "      <td>Blakemore Hyde Park</td>\n",
       "      <td>30 Leinster Gardens Bayswater Westminster Borough London W2 3AN United Kingdom</td>\n",
       "      <td>6596</td>\n",
       "      <td>1198</td>\n",
       "      <td>8.5</td>\n",
       "      <td>2016-04-07</td>\n",
       "      <td>United Kingdom</td>\n",
       "      <td>The location was great and the room was clean specially the bathroom</td>\n",
       "      <td>The key for the room didn t work and i was left wondering on the 5th floor what to do I went back to reception told them about the problem the door doesn t open and the girl at reception said it is fixed went back to the 5th floor in their elevator which i felt its gonna fall dawn any second but i reached 5th safely thank god to find that my problem haven t been solved and i went back to the reception for the third time to be told that they have to send someone to check it for me and look for the problem with the door they took 30 deposit when i arrived for a room that doesn t open and a mini bar that was empty Will not go there again for sure</td>\n",
       "      <td>1</td>\n",
       "      <td>5.4</td>\n",
       "      <td>[ Leisure trip ,  Couple ,  Club Double Room ,  Stayed 1 night ,  Submitted from a mobile device ]</td>\n",
       "      <td>[location, room, bath]</td>\n",
       "      <td>[key, room, work, floor, reception, problem, door, girl, reception, floor, elevator, gon, dawn, problem, reception, time, problem, door, deposit, room, bar]</td>\n",
       "    </tr>\n",
       "    <tr>\n",
       "      <th>2</th>\n",
       "      <td>The Montague On The Gardens</td>\n",
       "      <td>15 Montague St Bloomsbury Camden London WC1B 5BJ United Kingdom</td>\n",
       "      <td>931</td>\n",
       "      <td>196</td>\n",
       "      <td>9.3</td>\n",
       "      <td>2017-03-04</td>\n",
       "      <td>Canada</td>\n",
       "      <td>The staff are incredible always friendly and helpful The room was maintained twice a day and I always had a little surprise on my pillow when I went to bed Actually forgot my scarf in the room and the concierge ran over on the tube and brought it to me One of the best hotels I have stayed at plus location is perfect</td>\n",
       "      <td>If I had to complain the pillows didn t suit me</td>\n",
       "      <td>17</td>\n",
       "      <td>10.0</td>\n",
       "      <td>[ Leisure trip ,  Solo traveler ,  Classic Single Room ,  Stayed 7 nights ,  Submitted from a mobile device ]</td>\n",
       "      <td>[staff, room, surprise, bed, bed, scarf, room, concierge, tube, location]</td>\n",
       "      <td>[bed]</td>\n",
       "    </tr>\n",
       "  </tbody>\n",
       "</table>\n",
       "</div>"
      ],
      "text/plain": [
       "                              Hotel_Name  \\\n",
       "0  London Marriott Hotel West India Quay   \n",
       "1                    Blakemore Hyde Park   \n",
       "2            The Montague On The Gardens   \n",
       "\n",
       "                                                                    Hotel_Address  \\\n",
       "0                   22 Hertsmere Road Tower Hamlets London E14 4ED United Kingdom   \n",
       "1  30 Leinster Gardens Bayswater Westminster Borough London W2 3AN United Kingdom   \n",
       "2                 15 Montague St Bloomsbury Camden London WC1B 5BJ United Kingdom   \n",
       "\n",
       "   Review_Count  Non_Review_Scoring_Count  Average_Hotel_Score Review_Date  \\\n",
       "0          2836                       930                  8.9  2017-08-02   \n",
       "1          6596                      1198                  8.5  2016-04-07   \n",
       "2           931                       196                  9.3  2017-03-04   \n",
       "\n",
       "  Reviewer_Nationality  \\\n",
       "0      United Kingdom    \n",
       "1      United Kingdom    \n",
       "2              Canada    \n",
       "\n",
       "                                                                                                                                                                                                                                                                                                                Positive_Comments  \\\n",
       "0                                                                                                                                                                                                                                                                                     Upgraded room to walk in shower room lovely   \n",
       "1                                                                                                                                                                                                                                                            The location was great and the room was clean specially the bathroom   \n",
       "2   The staff are incredible always friendly and helpful The room was maintained twice a day and I always had a little surprise on my pillow when I went to bed Actually forgot my scarf in the room and the concierge ran over on the tube and brought it to me One of the best hotels I have stayed at plus location is perfect   \n",
       "\n",
       "                                                                                                                                                                                                                                                                                                                                                                                                                                                                                                                                                                                                                                                              Negative_Comments  \\\n",
       "0                                                                                                                                                                                                                                                                                                                                                                                                                                                                                                                                                                                                                                                               More tea coffee   \n",
       "1   The key for the room didn t work and i was left wondering on the 5th floor what to do I went back to reception told them about the problem the door doesn t open and the girl at reception said it is fixed went back to the 5th floor in their elevator which i felt its gonna fall dawn any second but i reached 5th safely thank god to find that my problem haven t been solved and i went back to the reception for the third time to be told that they have to send someone to check it for me and look for the problem with the door they took 30 deposit when i arrived for a room that doesn t open and a mini bar that was empty Will not go there again for sure   \n",
       "2                                                                                                                                                                                                                                                                                                                                                                                                                                                                                                                                                                                                                               If I had to complain the pillows didn t suit me   \n",
       "\n",
       "   Total_Reviewer_Reviews  Reviewer_Score  \\\n",
       "0                       4            10.0   \n",
       "1                       1             5.4   \n",
       "2                      17            10.0   \n",
       "\n",
       "                                                                                                            Tags  \\\n",
       "0     [ Leisure trip ,  Couple ,  Deluxe King or Twin Room ,  Stayed 1 night ,  Submitted from a mobile device ]   \n",
       "1             [ Leisure trip ,  Couple ,  Club Double Room ,  Stayed 1 night ,  Submitted from a mobile device ]   \n",
       "2  [ Leisure trip ,  Solo traveler ,  Classic Single Room ,  Stayed 7 nights ,  Submitted from a mobile device ]   \n",
       "\n",
       "                                                          Sp_Positive_Corpus  \\\n",
       "0                                                         [room, bath, room]   \n",
       "1                                                     [location, room, bath]   \n",
       "2  [staff, room, surprise, bed, bed, scarf, room, concierge, tube, location]   \n",
       "\n",
       "                                                                                                                                             Sp_Negative_Corpus  \n",
       "0                                                                                                                                                   [tea, food]  \n",
       "1  [key, room, work, floor, reception, problem, door, girl, reception, floor, elevator, gon, dawn, problem, reception, time, problem, door, deposit, room, bar]  \n",
       "2                                                                                                                                                         [bed]  "
      ]
     },
     "execution_count": 324,
     "metadata": {},
     "output_type": "execute_result"
    }
   ],
   "source": [
    "booking.head(3)"
   ]
  },
  {
   "cell_type": "code",
   "execution_count": 331,
   "id": "49f1ecef",
   "metadata": {},
   "outputs": [],
   "source": [
    "posSolo = []\n",
    "negSolo = []\n",
    "posGroup =[]\n",
    "negGroup =[]\n",
    "posBusiness = []\n",
    "negBusiness = []\n",
    "posLeisure = []\n",
    "negLeisure = []\n",
    "posCouple = []\n",
    "negCouple = []\n",
    "posFamily = []\n",
    "negFamily = []\n",
    "\n",
    "for index, row in booking.iterrows():\n",
    "    tags = row['Tags']\n",
    "    for word in tags:\n",
    "        if word.strip() == 'Solo traveler':\n",
    "            posSolo.append(row['Sp_Positive_Corpus'])\n",
    "            negSolo.append(row['Sp_Negative_Corpus'])\n",
    "        elif word.strip() == 'Group':\n",
    "            posGroup.append(row['Sp_Positive_Corpus'])\n",
    "            negGroup.append(row['Sp_Negative_Corpus'])\n",
    "        elif word.strip() == 'Business trip':\n",
    "            posBusiness.append(row['Sp_Positive_Corpus'])\n",
    "            negBusiness.append(row['Sp_Negative_Corpus'])\n",
    "        elif word.strip() == 'Leisure trip':\n",
    "            posLeisure.append(row['Sp_Positive_Corpus'])\n",
    "            negLeisure.append(row['Sp_Negative_Corpus'])\n",
    "        elif word.strip() == 'Couple':\n",
    "            posCouple.append(row['Sp_Positive_Corpus'])\n",
    "            negCouple.append(row['Sp_Negative_Corpus'])\n",
    "        elif word.strip() == 'Family with young children':\n",
    "            posFamily.append(row['Sp_Positive_Corpus'])\n",
    "            negFamily.append(row['Sp_Negative_Corpus'])"
   ]
  },
  {
   "cell_type": "code",
   "execution_count": null,
   "id": "1fd4e941",
   "metadata": {},
   "outputs": [],
   "source": [
    "# Defining a function to flatten a list\n",
    "\n",
    "def flatten_list(nested_list):\n",
    "    flattened_list = [item for sublist in nested_list for item in sublist]\n",
    "    return flattened_list"
   ]
  },
  {
   "cell_type": "code",
   "execution_count": 332,
   "id": "2378bab4",
   "metadata": {},
   "outputs": [],
   "source": [
    "# Flattening the lists\n",
    "\n",
    "pSolo = flatten_list(posSolo)\n",
    "nSolo = flatten_list(negSolo)\n",
    "pGroup = flatten_list(posGroup)\n",
    "nGroup = flatten_list(negGroup)\n",
    "pBusiness = flatten_list(posBusiness)\n",
    "nBusiness = flatten_list(negBusiness)\n",
    "pLeisure = flatten_list(posLeisure)\n",
    "nLeisure = flatten_list(negLeisure)\n",
    "pCouple = flatten_list(posCouple)\n",
    "nCouple = flatten_list(negCouple)\n",
    "pFamily = flatten_list(posFamily)\n",
    "nFamily = flatten_list(negFamily)"
   ]
  },
  {
   "cell_type": "code",
   "execution_count": 333,
   "id": "773fc3a0",
   "metadata": {},
   "outputs": [
    {
     "name": "stdout",
     "output_type": "stream",
     "text": [
      "Number of reviews for each category:\n",
      "+----------------------------+---------------------+\n",
      "| Category                   |   Number of Reviews |\n",
      "+============================+=====================+\n",
      "| Solo                       |                3115 |\n",
      "+----------------------------+---------------------+\n",
      "| Group                      |                1933 |\n",
      "+----------------------------+---------------------+\n",
      "| Business                   |                2441 |\n",
      "+----------------------------+---------------------+\n",
      "| Leisure                    |               12137 |\n",
      "+----------------------------+---------------------+\n",
      "| Couple                     |                7434 |\n",
      "+----------------------------+---------------------+\n",
      "| Family with young children |                1740 |\n",
      "+----------------------------+---------------------+\n"
     ]
    }
   ],
   "source": [
    "from tabulate import tabulate\n",
    "\n",
    "table_data = [\n",
    "    ['Solo', len(posSolo)],\n",
    "    ['Group', len(posGroup)],\n",
    "    ['Business', len(posBusiness)],\n",
    "    ['Leisure', len(posLeisure)],\n",
    "    ['Couple', len(posCouple)],\n",
    "    ['Family with young children', len(posFamily)]\n",
    "]\n",
    "\n",
    "print('Number of reviews for each category:')\n",
    "print(tabulate(table_data, headers=['Category', 'Number of Reviews'], tablefmt='grid'))\n"
   ]
  },
  {
   "cell_type": "markdown",
   "id": "43622da2",
   "metadata": {},
   "source": [
    "#### Reviews by Leisure Travellers are the highest (12137) and Family with young children are the least (1740). \n",
    "\n",
    "\n",
    "### Top 6 features in all the categories:"
   ]
  },
  {
   "cell_type": "code",
   "execution_count": 246,
   "id": "b0a1baef",
   "metadata": {},
   "outputs": [
    {
     "name": "stdout",
     "output_type": "stream",
     "text": [
      "Solo - Positive:  [('room', 1017), ('location', 876), ('staff', 852), ('food', 699), ('bed', 315), ('station', 285)]\n",
      "Solo - Negative:  [('room', 1234), ('food', 493), ('bath', 319), ('bed', 235), ('staff', 183), ('cost', 132)]\n",
      "\n",
      "Group - Positive:  [('room', 585), ('staff', 576), ('location', 575), ('food', 437), ('bed', 240), ('station', 204)]\n",
      "Group - Negative:  [('room', 743), ('food', 324), ('bath', 173), ('staff', 153), ('bed', 134), ('time', 81)]\n",
      "\n",
      "Business - Positive:  [('room', 685), ('location', 654), ('staff', 584), ('food', 524), ('station', 212), ('bed', 206)]\n",
      "Business - Negative:  [('room', 1016), ('food', 375), ('bath', 262), ('bed', 184), ('staff', 143), ('cost', 115)]\n",
      "\n",
      "Leisure - Positive:  [('room', 4192), ('staff', 3765), ('location', 3620), ('food', 2964), ('bed', 1532), ('station', 1261)]\n",
      "Leisure - Negative:  [('room', 4646), ('food', 2132), ('bath', 1242), ('bed', 1006), ('staff', 802), ('cost', 442)]\n",
      "\n",
      "Couple - Positive:  [('room', 2602), ('staff', 2305), ('location', 2139), ('food', 1842), ('bed', 972), ('station', 742)]\n",
      "Couple - Negative:  [('room', 2807), ('food', 1333), ('bath', 861), ('bed', 604), ('staff', 430), ('bar', 290)]\n",
      "\n",
      "Family with young children - Positive : [('room', 537), ('location', 519), ('staff', 509), ('food', 429), ('bed', 196), ('station', 188)]\n",
      "Family with young children - Negative:  [('room', 725), ('food', 285), ('bed', 184), ('staff', 146), ('bath', 137), ('time', 71)]\n"
     ]
    }
   ],
   "source": [
    "print('Solo - Positive: ', Counter(pSolo).most_common(6))\n",
    "print('Solo - Negative: ', Counter(nSolo).most_common(6))\n",
    "print('\\nGroup - Positive: ', Counter(pGroup).most_common(6))\n",
    "print('Group - Negative: ', Counter(nGroup).most_common(6))\n",
    "print('\\nBusiness - Positive: ', Counter(pBusiness).most_common(6))\n",
    "print('Business - Negative: ', Counter(nBusiness).most_common(6))\n",
    "print('\\nLeisure - Positive: ', Counter(pLeisure).most_common(6))\n",
    "print('Leisure - Negative: ', Counter(nLeisure).most_common(6))\n",
    "print('\\nCouple - Positive: ', Counter(pCouple).most_common(6))\n",
    "print('Couple - Negative: ', Counter(nCouple).most_common(6))\n",
    "print('\\nFamily with young children - Positive :', Counter(pFamily).most_common(6))\n",
    "print('Family with young children - Negative: ', Counter(nFamily).most_common(6))"
   ]
  },
  {
   "cell_type": "markdown",
   "id": "807166dc",
   "metadata": {},
   "source": [
    "#### The top features (Room, Location, Staff, Food, Bed, Station etc.) are similar across all the categories. If we have to compare these features for further analysis, they have to be normalized (as there is a lot of variation in the number of reviews given in each category)."
   ]
  },
  {
   "cell_type": "code",
   "execution_count": 339,
   "id": "6f5dd3e8",
   "metadata": {},
   "outputs": [],
   "source": [
    "booking['Country'] = booking['Hotel_Address'].apply(lambda x: x.split()[-1])"
   ]
  },
  {
   "cell_type": "code",
   "execution_count": 340,
   "id": "f119364d",
   "metadata": {},
   "outputs": [
    {
     "data": {
      "text/plain": [
       "0            Kingdom\n",
       "1            Kingdom\n",
       "2            Kingdom\n",
       "3        Netherlands\n",
       "4            Kingdom\n",
       "            ...     \n",
       "14995        Kingdom\n",
       "14996    Netherlands\n",
       "14997        Kingdom\n",
       "14998        Kingdom\n",
       "14999         France\n",
       "Name: Country, Length: 15000, dtype: object"
      ]
     },
     "execution_count": 340,
     "metadata": {},
     "output_type": "execute_result"
    }
   ],
   "source": [
    "booking['Country']"
   ]
  },
  {
   "cell_type": "code",
   "execution_count": 341,
   "id": "b010cf9f",
   "metadata": {},
   "outputs": [],
   "source": [
    "# Replacing 'Kingdom' with 'United Kingdom'\n",
    "\n",
    "booking['Country'] = ['United Kingdom' if w == 'Kingdom' else w for w in booking['Country']]"
   ]
  },
  {
   "cell_type": "code",
   "execution_count": 342,
   "id": "9186adb9",
   "metadata": {
    "scrolled": true
   },
   "outputs": [
    {
     "data": {
      "text/plain": [
       "0        United Kingdom\n",
       "1        United Kingdom\n",
       "2        United Kingdom\n",
       "3           Netherlands\n",
       "4        United Kingdom\n",
       "              ...      \n",
       "14995    United Kingdom\n",
       "14996       Netherlands\n",
       "14997    United Kingdom\n",
       "14998    United Kingdom\n",
       "14999            France\n",
       "Name: Country, Length: 15000, dtype: object"
      ]
     },
     "execution_count": 342,
     "metadata": {},
     "output_type": "execute_result"
    }
   ],
   "source": [
    "booking['Country']"
   ]
  },
  {
   "cell_type": "code",
   "execution_count": 343,
   "id": "02da2284",
   "metadata": {},
   "outputs": [
    {
     "data": {
      "text/plain": [
       "array(['United Kingdom', 'Netherlands', 'Italy', 'Austria', 'France',\n",
       "       'Spain'], dtype=object)"
      ]
     },
     "execution_count": 343,
     "metadata": {},
     "output_type": "execute_result"
    }
   ],
   "source": [
    "booking['Country'].unique()   # There are 6 countries"
   ]
  },
  {
   "cell_type": "code",
   "execution_count": 344,
   "id": "e190e485",
   "metadata": {},
   "outputs": [],
   "source": [
    "# Positive Reviews grouped by the Hotel's Country\n",
    "\n",
    "booking['Sp_Positive_Corpus'] = booking['Sp_Positive_Corpus'].apply(tuple)\n",
    "groups=booking.groupby('Country')['Sp_Positive_Corpus']\n",
    "result = groups.apply(lambda x: Counter(x).most_common(7))"
   ]
  },
  {
   "cell_type": "code",
   "execution_count": 345,
   "id": "dfe2ab1f",
   "metadata": {},
   "outputs": [
    {
     "name": "stdout",
     "output_type": "stream",
     "text": [
      "France:\n",
      "((), 247)\n",
      "(('location',), 118)\n",
      "(('staff',), 58)\n",
      "(('room',), 32)\n",
      "(('location', 'staff'), 28)\n",
      "(('bed',), 22)\n",
      "(('staff', 'location'), 18)\n",
      "\n",
      "Italy:\n",
      "((), 166)\n",
      "(('location',), 39)\n",
      "(('room',), 30)\n",
      "(('staff',), 26)\n",
      "(('food',), 24)\n",
      "(('location', 'staff'), 7)\n",
      "(('station',), 7)\n",
      "\n",
      "Spain:\n",
      "((), 234)\n",
      "(('location',), 91)\n",
      "(('staff',), 64)\n",
      "(('room',), 37)\n",
      "(('location', 'staff'), 26)\n",
      "(('bed',), 14)\n",
      "(('staff', 'room'), 12)\n",
      "\n",
      "United Kingdom:\n",
      "((), 1252)\n",
      "(('location',), 457)\n",
      "(('staff',), 270)\n",
      "(('room',), 145)\n",
      "(('bed',), 95)\n",
      "(('food',), 93)\n",
      "(('location', 'staff'), 68)\n",
      "\n"
     ]
    }
   ],
   "source": [
    "for country, values in result.items():\n",
    "    if country not in ['Austria','Netherlands']:\n",
    "        print(country + ':')\n",
    "        for item in values:\n",
    "            print(item)\n",
    "        print()"
   ]
  },
  {
   "cell_type": "markdown",
   "id": "68d6270e",
   "metadata": {},
   "source": [
    "#### The top five features liked about hotels in United Kingdom, France, Italy, and Spain:\n",
    "#### Location, Staff, Bed, Room, Food"
   ]
  },
  {
   "cell_type": "code",
   "execution_count": 346,
   "id": "76f2d2e2",
   "metadata": {},
   "outputs": [],
   "source": [
    "# Negative Reviews grouped by the Hotel's Country\n",
    "\n",
    "booking['Sp_Negative_Corpus'] = booking['Sp_Negative_Corpus'].apply(tuple)\n",
    "groups=booking.groupby('Country')['Sp_Negative_Corpus']\n",
    "result1 = groups.apply(lambda x: Counter(x).most_common(7))"
   ]
  },
  {
   "cell_type": "code",
   "execution_count": 350,
   "id": "d0022b45",
   "metadata": {},
   "outputs": [
    {
     "name": "stdout",
     "output_type": "stream",
     "text": [
      "France:\n",
      "((), 675)\n",
      "(('room',), 51)\n",
      "(('food',), 20)\n",
      "(('bath',), 7)\n",
      "(('staff',), 6)\n",
      "(('complaints',), 5)\n",
      "(('space',), 5)\n",
      "\n",
      "Italy:\n",
      "((), 447)\n",
      "(('room',), 20)\n",
      "(('food',), 14)\n",
      "(('bed',), 9)\n",
      "(('location',), 6)\n",
      "(('cost',), 4)\n",
      "(('food', 'food'), 4)\n",
      "\n",
      "Spain:\n",
      "((), 690)\n",
      "(('room',), 20)\n",
      "(('food',), 14)\n",
      "(('pool',), 10)\n",
      "(('staff',), 10)\n",
      "(('bed',), 9)\n",
      "(('internet',), 6)\n",
      "\n",
      "United Kingdom:\n",
      "((), 2668)\n",
      "(('room',), 159)\n",
      "(('food',), 73)\n",
      "(('bed',), 64)\n",
      "(('cost',), 31)\n",
      "(('bath',), 28)\n",
      "(('staff',), 25)\n",
      "\n"
     ]
    }
   ],
   "source": [
    "for country, values in result1.items():\n",
    "    if country not in ['Austria','Netherlands']:\n",
    "        print(country + ':')\n",
    "        for item in values:\n",
    "            print(item)\n",
    "        print()"
   ]
  },
  {
   "cell_type": "markdown",
   "id": "26489c03",
   "metadata": {},
   "source": [
    "#### The top five features complained about hotels in United Kingdom, France, Italy, and Spain:\n",
    "#### Staff, Bed, Room, Bath, Food. \n",
    "##### However the number of complaints is far less than the positive reviews."
   ]
  },
  {
   "cell_type": "code",
   "execution_count": 256,
   "id": "fcdf7c66",
   "metadata": {},
   "outputs": [],
   "source": [
    "from datetime import datetime\n",
    "booking['Review_Date'] = pd.to_datetime(booking['Review_Date'])\n",
    "booking['Review_Year'] = booking['Review_Date'].dt.year"
   ]
  },
  {
   "cell_type": "code",
   "execution_count": 257,
   "id": "25b34896",
   "metadata": {},
   "outputs": [],
   "source": [
    "avg_ratings = booking.groupby(['Hotel_Name', 'Review_Year'])['Reviewer_Score'].mean()"
   ]
  },
  {
   "cell_type": "code",
   "execution_count": 258,
   "id": "9f9efbe8",
   "metadata": {},
   "outputs": [
    {
     "data": {
      "text/plain": [
       "Hotel_Name                Review_Year\n",
       "41                        2015           9.600000\n",
       "                          2016           9.600000\n",
       "                          2017           9.600000\n",
       "11 Cadogan Gardens        2015           7.100000\n",
       "                          2016           8.300000\n",
       "                                           ...   \n",
       "citizenM Tower of London  2017           9.148276\n",
       "every hotel Piccadilly    2015           9.420000\n",
       "                          2016           9.600000\n",
       "                          2017           9.800000\n",
       "pentahotel Vienna         2016           9.150000\n",
       "Name: Reviewer_Score, Length: 3203, dtype: float64"
      ]
     },
     "execution_count": 258,
     "metadata": {},
     "output_type": "execute_result"
    }
   ],
   "source": [
    "avg_ratings"
   ]
  },
  {
   "cell_type": "code",
   "execution_count": 259,
   "id": "9ef3fbbb",
   "metadata": {},
   "outputs": [],
   "source": [
    "avg_ratings_overall = avg_ratings.groupby('Hotel_Name').mean()\n",
    "top_five_high_ratings = avg_ratings_overall.nlargest(5)\n",
    "top_five_low_ratings = avg_ratings_overall.nsmallest(5)"
   ]
  },
  {
   "cell_type": "markdown",
   "id": "14facae7",
   "metadata": {},
   "source": [
    "#### Top five hotels with consistent high ratings"
   ]
  },
  {
   "cell_type": "code",
   "execution_count": 260,
   "id": "53300dd8",
   "metadata": {},
   "outputs": [
    {
     "data": {
      "text/plain": [
       "Hotel_Name\n",
       "45 Park Lane Dorchester Collection    10.0\n",
       "Antica Locanda Dei Mercanti           10.0\n",
       "Best Western Allegro Nation           10.0\n",
       "Best Western Premier Le Swann         10.0\n",
       "BoB Hotel by Elegancia                10.0\n",
       "Name: Reviewer_Score, dtype: float64"
      ]
     },
     "execution_count": 260,
     "metadata": {},
     "output_type": "execute_result"
    }
   ],
   "source": [
    "top_five_high_ratings"
   ]
  },
  {
   "cell_type": "markdown",
   "id": "d0a409c9",
   "metadata": {},
   "source": [
    "#### Top five hotels with consistent low ratings"
   ]
  },
  {
   "cell_type": "code",
   "execution_count": 261,
   "id": "508bc9c1",
   "metadata": {},
   "outputs": [
    {
     "data": {
      "text/plain": [
       "Hotel_Name\n",
       "Hotel Sezz Paris              2.50\n",
       "Simply Rooms Suites           3.85\n",
       "Best Western Amiral Hotel     3.95\n",
       "Fairmont Rey Juan Carlos I    4.15\n",
       "Palazzo Segreti               4.20\n",
       "Name: Reviewer_Score, dtype: float64"
      ]
     },
     "execution_count": 261,
     "metadata": {},
     "output_type": "execute_result"
    }
   ],
   "source": [
    "top_five_low_ratings"
   ]
  },
  {
   "cell_type": "code",
   "execution_count": 307,
   "id": "6290587d",
   "metadata": {
    "scrolled": true
   },
   "outputs": [],
   "source": [
    "average_ratings = booking.groupby(['Hotel_Name', 'Review_Year'])['Average_Hotel_Score'].mean().unstack()"
   ]
  },
  {
   "cell_type": "code",
   "execution_count": 308,
   "id": "1db05e06",
   "metadata": {},
   "outputs": [
    {
     "data": {
      "text/html": [
       "<div>\n",
       "<style scoped>\n",
       "    .dataframe tbody tr th:only-of-type {\n",
       "        vertical-align: middle;\n",
       "    }\n",
       "\n",
       "    .dataframe tbody tr th {\n",
       "        vertical-align: top;\n",
       "    }\n",
       "\n",
       "    .dataframe thead th {\n",
       "        text-align: right;\n",
       "    }\n",
       "</style>\n",
       "<table border=\"1\" class=\"dataframe\">\n",
       "  <thead>\n",
       "    <tr style=\"text-align: right;\">\n",
       "      <th>Review_Year</th>\n",
       "      <th>2015</th>\n",
       "      <th>2016</th>\n",
       "      <th>2017</th>\n",
       "    </tr>\n",
       "    <tr>\n",
       "      <th>Hotel_Name</th>\n",
       "      <th></th>\n",
       "      <th></th>\n",
       "      <th></th>\n",
       "    </tr>\n",
       "  </thead>\n",
       "  <tbody>\n",
       "    <tr>\n",
       "      <th>41</th>\n",
       "      <td>9.6</td>\n",
       "      <td>9.6</td>\n",
       "      <td>9.6</td>\n",
       "    </tr>\n",
       "    <tr>\n",
       "      <th>11 Cadogan Gardens</th>\n",
       "      <td>8.7</td>\n",
       "      <td>8.7</td>\n",
       "      <td>8.7</td>\n",
       "    </tr>\n",
       "    <tr>\n",
       "      <th>1K Hotel</th>\n",
       "      <td>NaN</td>\n",
       "      <td>7.7</td>\n",
       "      <td>7.7</td>\n",
       "    </tr>\n",
       "    <tr>\n",
       "      <th>25hours Hotel beim MuseumsQuartier</th>\n",
       "      <td>8.8</td>\n",
       "      <td>8.8</td>\n",
       "      <td>8.8</td>\n",
       "    </tr>\n",
       "    <tr>\n",
       "      <th>45 Park Lane Dorchester Collection</th>\n",
       "      <td>NaN</td>\n",
       "      <td>9.4</td>\n",
       "      <td>NaN</td>\n",
       "    </tr>\n",
       "    <tr>\n",
       "      <th>...</th>\n",
       "      <td>...</td>\n",
       "      <td>...</td>\n",
       "      <td>...</td>\n",
       "    </tr>\n",
       "    <tr>\n",
       "      <th>citizenM London Bankside</th>\n",
       "      <td>9.1</td>\n",
       "      <td>9.1</td>\n",
       "      <td>9.1</td>\n",
       "    </tr>\n",
       "    <tr>\n",
       "      <th>citizenM London Shoreditch</th>\n",
       "      <td>NaN</td>\n",
       "      <td>9.1</td>\n",
       "      <td>9.1</td>\n",
       "    </tr>\n",
       "    <tr>\n",
       "      <th>citizenM Tower of London</th>\n",
       "      <td>NaN</td>\n",
       "      <td>9.1</td>\n",
       "      <td>9.1</td>\n",
       "    </tr>\n",
       "    <tr>\n",
       "      <th>every hotel Piccadilly</th>\n",
       "      <td>8.8</td>\n",
       "      <td>8.8</td>\n",
       "      <td>8.8</td>\n",
       "    </tr>\n",
       "    <tr>\n",
       "      <th>pentahotel Vienna</th>\n",
       "      <td>NaN</td>\n",
       "      <td>8.5</td>\n",
       "      <td>NaN</td>\n",
       "    </tr>\n",
       "  </tbody>\n",
       "</table>\n",
       "<p>1378 rows × 3 columns</p>\n",
       "</div>"
      ],
      "text/plain": [
       "Review_Year                         2015  2016  2017\n",
       "Hotel_Name                                          \n",
       "41                                   9.6   9.6   9.6\n",
       "11 Cadogan Gardens                   8.7   8.7   8.7\n",
       "1K Hotel                             NaN   7.7   7.7\n",
       "25hours Hotel beim MuseumsQuartier   8.8   8.8   8.8\n",
       "45 Park Lane Dorchester Collection   NaN   9.4   NaN\n",
       "...                                  ...   ...   ...\n",
       "citizenM London Bankside             9.1   9.1   9.1\n",
       "citizenM London Shoreditch           NaN   9.1   9.1\n",
       "citizenM Tower of London             NaN   9.1   9.1\n",
       "every hotel Piccadilly               8.8   8.8   8.8\n",
       "pentahotel Vienna                    NaN   8.5   NaN\n",
       "\n",
       "[1378 rows x 3 columns]"
      ]
     },
     "execution_count": 308,
     "metadata": {},
     "output_type": "execute_result"
    }
   ],
   "source": [
    "average_ratings"
   ]
  },
  {
   "cell_type": "code",
   "execution_count": 294,
   "id": "036b7f7d",
   "metadata": {},
   "outputs": [],
   "source": [
    "improvement = average_ratings[2017] - average_ratings[2015]"
   ]
  },
  {
   "cell_type": "code",
   "execution_count": 289,
   "id": "092deebf",
   "metadata": {
    "scrolled": true
   },
   "outputs": [],
   "source": [
    "top5 = improvement.nlargest(5)"
   ]
  },
  {
   "cell_type": "markdown",
   "id": "2ae2788c",
   "metadata": {},
   "source": [
    "#### Five most improved hotels from 2015 to 2017"
   ]
  },
  {
   "cell_type": "code",
   "execution_count": 288,
   "id": "41cbb0cf",
   "metadata": {},
   "outputs": [
    {
     "name": "stdout",
     "output_type": "stream",
     "text": [
      "Five Most Improved Hotels:\n",
      "Hotel: BEST WESTERN Maitrise Hotel Maida Vale\n",
      "Average Rating 2015: 7.099999999999999\n",
      "Average Rating 2016: 7.099999999999999\n",
      "Average Rating 2017: 7.1\n",
      "Improvement: 8.881784197001252e-16\n",
      "\n",
      "Hotel: Best Western Maitrise Hotel Edgware Road\n",
      "Average Rating 2015: 6.599999999999999\n",
      "Average Rating 2016: 6.6\n",
      "Average Rating 2017: 6.6\n",
      "Improvement: 8.881784197001252e-16\n",
      "\n",
      "Hotel: Best Western Palm Hotel\n",
      "Average Rating 2015: 7.9\n",
      "Average Rating 2016: 7.9\n",
      "Average Rating 2017: 7.900000000000001\n",
      "Improvement: 8.881784197001252e-16\n",
      "\n",
      "Hotel: Best Western Plus Hotel Blue Square\n",
      "Average Rating 2015: 7.3\n",
      "Average Rating 2016: 7.3\n",
      "Average Rating 2017: 7.300000000000001\n",
      "Improvement: 8.881784197001252e-16\n",
      "\n",
      "Hotel: Corus Hotel Hyde Park\n",
      "Average Rating 2015: 7.599999999999999\n",
      "Average Rating 2016: 7.6\n",
      "Average Rating 2017: 7.6\n",
      "Improvement: 8.881784197001252e-16\n",
      "\n"
     ]
    }
   ],
   "source": [
    "print(\"Five Most Improved Hotels:\")\n",
    "for h in top5.index:\n",
    "    print(\"Hotel:\", h)\n",
    "    print(\"Average Rating 2015:\", average_ratings.loc[h, 2015])\n",
    "    print(\"Average Rating 2016:\", average_ratings.loc[h, 2016])\n",
    "    print(\"Average Rating 2017:\", average_ratings.loc[h, 2017])\n",
    "    print(\"Improvement:\", top5[h])\n",
    "    print()"
   ]
  },
  {
   "cell_type": "markdown",
   "id": "dfef472f",
   "metadata": {},
   "source": [
    "#### Dashboard showing all the plots"
   ]
  },
  {
   "cell_type": "code",
   "execution_count": 315,
   "id": "e099b53e",
   "metadata": {},
   "outputs": [
    {
     "data": {
      "image/png": "[encoded data removed]",
      "text/plain": [
       "<Figure size 1800x800 with 3 Axes>"
      ]
     },
     "metadata": {},
     "output_type": "display_data"
    }
   ],
   "source": [
    "plt.figure(figsize=(18, 8))\n",
    "\n",
    "plt.subplot(1, 3, 1)\n",
    "top_five_high_ratings.plot(kind='bar', color='skyblue')\n",
    "plt.title('Top 5 Hotels')\n",
    "#plt.xlabel('Hotel Name')\n",
    "#plt.ylabel('Average Rating')\n",
    "plt.xticks(rotation=45, ha='right')\n",
    "\n",
    "plt.subplot(1, 3, 2)\n",
    "top_five_low_ratings.plot(kind='bar', color='red')\n",
    "plt.title('Bottom 5 Hotels')\n",
    "#plt.xlabel('Hotel Name')\n",
    "#plt.ylabel('Average Rating')\n",
    "plt.xticks(rotation=45, ha='right')\n",
    "\n",
    "\n",
    "plt.subplot(1, 3, 3)\n",
    "top5.plot(kind='bar', color='green')\n",
    "plt.title('Top 5 Improved')\n",
    "#plt.xlabel('Hotel Name')\n",
    "#plt.ylabel('Average Rating')\n",
    "plt.xticks(rotation=45, ha='right')\n",
    "plt.tight_layout()\n",
    "plt.show()"
   ]
  },
  {
   "cell_type": "markdown",
   "id": "5debf2e7",
   "metadata": {},
   "source": [
    "#### Since the sample data has only 15000 datapoints, there is no visible improvement in the ratings. However, if the whole dataset is considered, we can see the actual improvement."
   ]
  }
 ],
 "metadata": {
  "kernelspec": {
   "display_name": "Python 3 (ipykernel)",
   "language": "python",
   "name": "python3"
  },
  "language_info": {
   "codemirror_mode": {
    "name": "ipython",
    "version": 3
   },
   "file_extension": ".py",
   "mimetype": "text/x-python",
   "name": "python",
   "nbconvert_exporter": "python",
   "pygments_lexer": "ipython3",
   "version": "3.10.9"
  }
 },
 "nbformat": 4,
 "nbformat_minor": 5
}
